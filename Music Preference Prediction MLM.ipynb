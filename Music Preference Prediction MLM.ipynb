{
 "cells": [
  {
   "cell_type": "code",
   "execution_count": 95,
   "id": "5c7b7ca4-55c0-43e5-8c60-f324eef15d33",
   "metadata": {},
   "outputs": [
    {
     "data": {
      "text/plain": [
       "\"['Dance' 'Jazz' 'Classical' 'Classical']\""
      ]
     },
     "execution_count": 95,
     "metadata": {},
     "output_type": "execute_result"
    }
   ],
   "source": [
    "import pandas as pd\n",
    "from sklearn.tree import DecisionTreeClassifier\n",
    "from sklearn.model_selection import train_test_split\n",
    "from sklearn.metrics import accuracy_score\n",
    "\n",
    "musicDF = pd.read_csv(\"music.csv\")\n",
    "x = musicDF.drop(columns=[\"genre\"])\n",
    "y = musicDF[\"genre\"]\n",
    "xTrain, xTest, yTrain, yTest = train_test_split(x, y, test_size=0.2)\n",
    "\n",
    "model = DecisionTreeClassifier()\n",
    "model.fit(xTrain, yTrain)\n",
    "predictions = model.predict(xTest)\n",
    "\n",
    "str(predictions)"
   ]
  },
  {
   "cell_type": "code",
   "execution_count": 201,
   "id": "325da324-14d1-472d-94ed-8e6ae407297d",
   "metadata": {},
   "outputs": [
    {
     "data": {
      "text/plain": [
       "0.75"
      ]
     },
     "execution_count": 201,
     "metadata": {},
     "output_type": "execute_result"
    }
   ],
   "source": [
    "score = accuracy_score(yTest, predictions)\n",
    "score"
   ]
  }
 ],
 "metadata": {
  "kernelspec": {
   "display_name": "Python 3 (ipykernel)",
   "language": "python",
   "name": "python3"
  },
  "language_info": {
   "codemirror_mode": {
    "name": "ipython",
    "version": 3
   },
   "file_extension": ".py",
   "mimetype": "text/x-python",
   "name": "python",
   "nbconvert_exporter": "python",
   "pygments_lexer": "ipython3",
   "version": "3.12.4"
  }
 },
 "nbformat": 4,
 "nbformat_minor": 5
}
