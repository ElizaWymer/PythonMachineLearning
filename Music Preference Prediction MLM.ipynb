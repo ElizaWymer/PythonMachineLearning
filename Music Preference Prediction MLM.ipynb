{
 "cells": [
  {
   "cell_type": "code",
   "execution_count": 316,
   "id": "5c7b7ca4-55c0-43e5-8c60-f324eef15d33",
   "metadata": {},
   "outputs": [],
   "source": [
    "import pandas as pd\n",
    "from sklearn.tree import DecisionTreeClassifier\n",
    "from sklearn import tree\n",
    "\n",
    "musicDF = pd.read_csv(\"music.csv\")\n",
    "x = musicDF.drop(columns=[\"genre\"])\n",
    "y = musicDF[\"genre\"]\n",
    "\n",
    "model = DecisionTreeClassifier()\n",
    "model.fit(xTrain, yTrain)\n",
    "\n",
    "tree.export_graphviz(model, out_file=\"music-recommender.dot\", \n",
    "                     feature_names=[\"age\", \"gender\"],\n",
    "                    class_names=sorted(y.unique()),\n",
    "                    label=\"all\",\n",
    "                    rounded=True,\n",
    "                    filled=True)"
   ]
  }
 ],
 "metadata": {
  "kernelspec": {
   "display_name": "Python 3 (ipykernel)",
   "language": "python",
   "name": "python3"
  },
  "language_info": {
   "codemirror_mode": {
    "name": "ipython",
    "version": 3
   },
   "file_extension": ".py",
   "mimetype": "text/x-python",
   "name": "python",
   "nbconvert_exporter": "python",
   "pygments_lexer": "ipython3",
   "version": "3.12.4"
  }
 },
 "nbformat": 4,
 "nbformat_minor": 5
}
